{
 "cells": [
  {
   "cell_type": "code",
   "execution_count": null,
   "id": "c8229c7a",
   "metadata": {},
   "outputs": [],
   "source": [
    "#Load the Driver helper and mount\n",
    "from google.colab import drive\n",
    "\n",
    "# this will prompt for authorisation\n",
    "drive.mount(\"/content/drive\")"
   ]
  },
  {
   "cell_type": "code",
   "execution_count": null,
   "id": "e6959db7",
   "metadata": {},
   "outputs": [],
   "source": [
    "!pip install transformers tqdm"
   ]
  },
  {
   "cell_type": "code",
   "execution_count": null,
   "id": "ff3be3f1",
   "metadata": {},
   "outputs": [],
   "source": [
    "%cd drive/MyDrive"
   ]
  },
  {
   "cell_type": "code",
   "execution_count": null,
   "id": "81986c11",
   "metadata": {},
   "outputs": [],
   "source": [
    "!git clone https://github.com/aiwizzard/transformer.git"
   ]
  },
  {
   "cell_type": "code",
   "execution_count": null,
   "id": "df05d5ff",
   "metadata": {},
   "outputs": [],
   "source": [
    "%cd transformer/"
   ]
  },
  {
   "cell_type": "code",
   "execution_count": null,
   "id": "a09e722c",
   "metadata": {},
   "outputs": [],
   "source": [
    "!python train.py"
   ]
  }
 ],
 "metadata": {
  "kernelspec": {
   "display_name": "Python 3 (ipykernel)",
   "language": "python",
   "name": "python3"
  },
  "language_info": {
   "codemirror_mode": {
    "name": "ipython",
    "version": 3
   },
   "file_extension": ".py",
   "mimetype": "text/x-python",
   "name": "python",
   "nbconvert_exporter": "python",
   "pygments_lexer": "ipython3",
   "version": "3.9.5"
  }
 },
 "nbformat": 4,
 "nbformat_minor": 5
}
